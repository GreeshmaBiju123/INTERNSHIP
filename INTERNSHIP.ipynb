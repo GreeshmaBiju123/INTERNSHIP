{
 "cells": [
  {
   "cell_type": "markdown",
   "id": "7198a705",
   "metadata": {},
   "source": [
    "# PROJECT TITLE:-\n",
    "  Classification Model- Build a Model that Classifies the Side Effects of a Drug"
   ]
  },
  {
   "cell_type": "markdown",
   "id": "d281cb47",
   "metadata": {},
   "source": [
    "# Project Description:-\n",
    "       \n",
    "  The objective of this project is to build a classification model that classifies the side effects of a particular drug by age, gender and race."
   ]
  },
  {
   "cell_type": "code",
   "execution_count": 1,
   "id": "f8d608f5",
   "metadata": {},
   "outputs": [],
   "source": [
    "#importing the relevant libraries\n",
    "import numpy as np\n",
    "import pandas as pd\n",
    "import matplotlib.pyplot as plt\n",
    "import seaborn as sns"
   ]
  },
  {
   "cell_type": "markdown",
   "id": "77597910",
   "metadata": {},
   "source": [
    "## 1. Load the dataset into python environment"
   ]
  },
  {
   "cell_type": "code",
   "execution_count": 2,
   "id": "c04f26e2",
   "metadata": {},
   "outputs": [
    {
     "data": {
      "text/html": [
       "<div>\n",
       "<style scoped>\n",
       "    .dataframe tbody tr th:only-of-type {\n",
       "        vertical-align: middle;\n",
       "    }\n",
       "\n",
       "    .dataframe tbody tr th {\n",
       "        vertical-align: top;\n",
       "    }\n",
       "\n",
       "    .dataframe thead th {\n",
       "        text-align: right;\n",
       "    }\n",
       "</style>\n",
       "<table border=\"1\" class=\"dataframe\">\n",
       "  <thead>\n",
       "    <tr style=\"text-align: right;\">\n",
       "      <th></th>\n",
       "      <th>Age</th>\n",
       "      <th>Condition</th>\n",
       "      <th>Date</th>\n",
       "      <th>Drug</th>\n",
       "      <th>DrugId</th>\n",
       "      <th>EaseofUse</th>\n",
       "      <th>Effectiveness</th>\n",
       "      <th>Reviews</th>\n",
       "      <th>Satisfaction</th>\n",
       "      <th>Sex</th>\n",
       "      <th>Sides</th>\n",
       "      <th>UsefulCount</th>\n",
       "    </tr>\n",
       "  </thead>\n",
       "  <tbody>\n",
       "    <tr>\n",
       "      <th>0</th>\n",
       "      <td>75 or over</td>\n",
       "      <td>Stuffy Nose</td>\n",
       "      <td>9/21/2014</td>\n",
       "      <td>25dph-7.5peh</td>\n",
       "      <td>146724</td>\n",
       "      <td>5</td>\n",
       "      <td>5</td>\n",
       "      <td>I'm a retired physician and of all the meds I ...</td>\n",
       "      <td>5</td>\n",
       "      <td>Male</td>\n",
       "      <td>Drowsiness,  dizziness ,  dry mouth /nose/thro...</td>\n",
       "      <td>0</td>\n",
       "    </tr>\n",
       "    <tr>\n",
       "      <th>1</th>\n",
       "      <td>25-34</td>\n",
       "      <td>Cold Symptoms</td>\n",
       "      <td>1/13/2011</td>\n",
       "      <td>25dph-7.5peh</td>\n",
       "      <td>146724</td>\n",
       "      <td>5</td>\n",
       "      <td>5</td>\n",
       "      <td>cleared me right up even with my throat hurtin...</td>\n",
       "      <td>5</td>\n",
       "      <td>Female</td>\n",
       "      <td>Drowsiness,  dizziness ,  dry mouth /nose/thro...</td>\n",
       "      <td>1</td>\n",
       "    </tr>\n",
       "    <tr>\n",
       "      <th>2</th>\n",
       "      <td>65-74</td>\n",
       "      <td>Other</td>\n",
       "      <td>7/16/2012</td>\n",
       "      <td>warfarin (bulk) 100 % powder</td>\n",
       "      <td>144731</td>\n",
       "      <td>2</td>\n",
       "      <td>3</td>\n",
       "      <td>why did my PTINR go from a normal of 2.5 to ov...</td>\n",
       "      <td>3</td>\n",
       "      <td>Female</td>\n",
       "      <td></td>\n",
       "      <td>0</td>\n",
       "    </tr>\n",
       "    <tr>\n",
       "      <th>3</th>\n",
       "      <td>75 or over</td>\n",
       "      <td>Other</td>\n",
       "      <td>9/23/2010</td>\n",
       "      <td>warfarin (bulk) 100 % powder</td>\n",
       "      <td>144731</td>\n",
       "      <td>2</td>\n",
       "      <td>2</td>\n",
       "      <td>FALLING AND DON'T REALISE IT</td>\n",
       "      <td>1</td>\n",
       "      <td>Female</td>\n",
       "      <td></td>\n",
       "      <td>0</td>\n",
       "    </tr>\n",
       "    <tr>\n",
       "      <th>4</th>\n",
       "      <td>35-44</td>\n",
       "      <td>Other</td>\n",
       "      <td>1/6/2009</td>\n",
       "      <td>warfarin (bulk) 100 % powder</td>\n",
       "      <td>144731</td>\n",
       "      <td>1</td>\n",
       "      <td>1</td>\n",
       "      <td>My grandfather was prescribed this medication ...</td>\n",
       "      <td>1</td>\n",
       "      <td>Male</td>\n",
       "      <td></td>\n",
       "      <td>1</td>\n",
       "    </tr>\n",
       "    <tr>\n",
       "      <th>...</th>\n",
       "      <td>...</td>\n",
       "      <td>...</td>\n",
       "      <td>...</td>\n",
       "      <td>...</td>\n",
       "      <td>...</td>\n",
       "      <td>...</td>\n",
       "      <td>...</td>\n",
       "      <td>...</td>\n",
       "      <td>...</td>\n",
       "      <td>...</td>\n",
       "      <td>...</td>\n",
       "      <td>...</td>\n",
       "    </tr>\n",
       "    <tr>\n",
       "      <th>362801</th>\n",
       "      <td>55-64</td>\n",
       "      <td>Stop Smoking</td>\n",
       "      <td>11/14/2008</td>\n",
       "      <td>chantix</td>\n",
       "      <td>144470</td>\n",
       "      <td>5</td>\n",
       "      <td>5</td>\n",
       "      <td>I took the whole 12 weeks.I could have stopped...</td>\n",
       "      <td>5</td>\n",
       "      <td>Female</td>\n",
       "      <td>Nausea ,  headache ,  vomiting , drowsiness, g...</td>\n",
       "      <td>2</td>\n",
       "    </tr>\n",
       "    <tr>\n",
       "      <th>362802</th>\n",
       "      <td></td>\n",
       "      <td>Other</td>\n",
       "      <td>11/14/2008</td>\n",
       "      <td>chantix</td>\n",
       "      <td>144470</td>\n",
       "      <td>2</td>\n",
       "      <td>3</td>\n",
       "      <td>My dad strated taking Chantix about 1 month ag...</td>\n",
       "      <td>1</td>\n",
       "      <td></td>\n",
       "      <td>Nausea ,  headache ,  vomiting , drowsiness, g...</td>\n",
       "      <td>16</td>\n",
       "    </tr>\n",
       "    <tr>\n",
       "      <th>362803</th>\n",
       "      <td>25-34</td>\n",
       "      <td>Stop Smoking</td>\n",
       "      <td>11/13/2008</td>\n",
       "      <td>chantix</td>\n",
       "      <td>144470</td>\n",
       "      <td>2</td>\n",
       "      <td>4</td>\n",
       "      <td>As long as I was on chantix, I didn't smoke.  ...</td>\n",
       "      <td>2</td>\n",
       "      <td>Female</td>\n",
       "      <td>Nausea ,  headache ,  vomiting , drowsiness, g...</td>\n",
       "      <td>3</td>\n",
       "    </tr>\n",
       "    <tr>\n",
       "      <th>362804</th>\n",
       "      <td>55-64</td>\n",
       "      <td>Stop Smoking</td>\n",
       "      <td>11/13/2008</td>\n",
       "      <td>chantix</td>\n",
       "      <td>144470</td>\n",
       "      <td>5</td>\n",
       "      <td>5</td>\n",
       "      <td>Started this medication Oct 5th 2008. Haven't ...</td>\n",
       "      <td>5</td>\n",
       "      <td>Male</td>\n",
       "      <td>Nausea ,  headache ,  vomiting , drowsiness, g...</td>\n",
       "      <td>1</td>\n",
       "    </tr>\n",
       "    <tr>\n",
       "      <th>362805</th>\n",
       "      <td>45-54</td>\n",
       "      <td>Stop Smoking</td>\n",
       "      <td>11/12/2008</td>\n",
       "      <td>chantix</td>\n",
       "      <td>144470</td>\n",
       "      <td>4</td>\n",
       "      <td>5</td>\n",
       "      <td>One year ago, I tried Chantix and had to stop ...</td>\n",
       "      <td>5</td>\n",
       "      <td>Female</td>\n",
       "      <td>Nausea ,  headache ,  vomiting , drowsiness, g...</td>\n",
       "      <td>3</td>\n",
       "    </tr>\n",
       "  </tbody>\n",
       "</table>\n",
       "<p>362806 rows × 12 columns</p>\n",
       "</div>"
      ],
      "text/plain": [
       "               Age      Condition        Date                          Drug  \\\n",
       "0       75 or over    Stuffy Nose   9/21/2014                  25dph-7.5peh   \n",
       "1            25-34  Cold Symptoms   1/13/2011                  25dph-7.5peh   \n",
       "2            65-74          Other   7/16/2012  warfarin (bulk) 100 % powder   \n",
       "3       75 or over          Other   9/23/2010  warfarin (bulk) 100 % powder   \n",
       "4            35-44          Other    1/6/2009  warfarin (bulk) 100 % powder   \n",
       "...            ...            ...         ...                           ...   \n",
       "362801       55-64   Stop Smoking  11/14/2008                       chantix   \n",
       "362802                      Other  11/14/2008                       chantix   \n",
       "362803       25-34   Stop Smoking  11/13/2008                       chantix   \n",
       "362804       55-64   Stop Smoking  11/13/2008                       chantix   \n",
       "362805       45-54   Stop Smoking  11/12/2008                       chantix   \n",
       "\n",
       "        DrugId  EaseofUse  Effectiveness  \\\n",
       "0       146724          5              5   \n",
       "1       146724          5              5   \n",
       "2       144731          2              3   \n",
       "3       144731          2              2   \n",
       "4       144731          1              1   \n",
       "...        ...        ...            ...   \n",
       "362801  144470          5              5   \n",
       "362802  144470          2              3   \n",
       "362803  144470          2              4   \n",
       "362804  144470          5              5   \n",
       "362805  144470          4              5   \n",
       "\n",
       "                                                  Reviews  Satisfaction  \\\n",
       "0       I'm a retired physician and of all the meds I ...             5   \n",
       "1       cleared me right up even with my throat hurtin...             5   \n",
       "2       why did my PTINR go from a normal of 2.5 to ov...             3   \n",
       "3                            FALLING AND DON'T REALISE IT             1   \n",
       "4       My grandfather was prescribed this medication ...             1   \n",
       "...                                                   ...           ...   \n",
       "362801  I took the whole 12 weeks.I could have stopped...             5   \n",
       "362802  My dad strated taking Chantix about 1 month ag...             1   \n",
       "362803  As long as I was on chantix, I didn't smoke.  ...             2   \n",
       "362804  Started this medication Oct 5th 2008. Haven't ...             5   \n",
       "362805  One year ago, I tried Chantix and had to stop ...             5   \n",
       "\n",
       "           Sex                                              Sides  UsefulCount  \n",
       "0         Male  Drowsiness,  dizziness ,  dry mouth /nose/thro...            0  \n",
       "1       Female  Drowsiness,  dizziness ,  dry mouth /nose/thro...            1  \n",
       "2       Female                                                               0  \n",
       "3       Female                                                               0  \n",
       "4         Male                                                               1  \n",
       "...        ...                                                ...          ...  \n",
       "362801  Female  Nausea ,  headache ,  vomiting , drowsiness, g...            2  \n",
       "362802          Nausea ,  headache ,  vomiting , drowsiness, g...           16  \n",
       "362803  Female  Nausea ,  headache ,  vomiting , drowsiness, g...            3  \n",
       "362804    Male  Nausea ,  headache ,  vomiting , drowsiness, g...            1  \n",
       "362805  Female  Nausea ,  headache ,  vomiting , drowsiness, g...            3  \n",
       "\n",
       "[362806 rows x 12 columns]"
      ]
     },
     "execution_count": 2,
     "metadata": {},
     "output_type": "execute_result"
    }
   ],
   "source": [
    "#reading the data into python environment\n",
    "data=pd.read_csv(r'C:\\Users\\DELL\\Downloads\\webmd.csv')\n",
    "#displaying the data\n",
    "data"
   ]
  },
  {
   "cell_type": "markdown",
   "id": "4824e603",
   "metadata": {},
   "source": [
    "* There are 362806 rows and 12 columns."
   ]
  },
  {
   "cell_type": "markdown",
   "id": "90f29642",
   "metadata": {},
   "source": [
    "###### Data Dictionary"
   ]
  },
  {
   "cell_type": "markdown",
   "id": "14618402",
   "metadata": {},
   "source": [
    "   * Age (numerical): age group range of user\n",
    "   * Condition (categorical): name of condition\n",
    "   * Date (date): date of review entry\n",
    "   * Drug (categorical): name of drug\n",
    "   * DrugId (numerical): drug id\n",
    "   * EaseOfUse (numerical): 5 star rating\n",
    "   * Effectiveness (numerical): 5 star rating\n",
    "   * Review (text): patient review\n",
    "   * Satisfaction (numerical): 5 star rating\n",
    "   * Sex (categorical): gender of user\n",
    "   * Side (text): side effects associated with drug (if any)\n",
    "   * UsefulCount (numerical): number of users who found review useful.\n",
    "\n"
   ]
  },
  {
   "cell_type": "markdown",
   "id": "305110c4",
   "metadata": {},
   "source": [
    "The dataset provides user reviews on specific drugs along with related conditions, side effects, age, sex, and ratings reflecting overall patient satisfaction."
   ]
  },
  {
   "cell_type": "markdown",
   "id": "e7995523",
   "metadata": {},
   "source": [
    "## I. Data Preprocessing"
   ]
  },
  {
   "cell_type": "markdown",
   "id": "bfa56905",
   "metadata": {},
   "source": [
    "### Checking the basic details of the dataset"
   ]
  },
  {
   "cell_type": "code",
   "execution_count": 3,
   "id": "86d15ea2",
   "metadata": {},
   "outputs": [
    {
     "name": "stdout",
     "output_type": "stream",
     "text": [
      "<class 'pandas.core.frame.DataFrame'>\n",
      "RangeIndex: 362806 entries, 0 to 362805\n",
      "Data columns (total 12 columns):\n",
      " #   Column         Non-Null Count   Dtype \n",
      "---  ------         --------------   ----- \n",
      " 0   Age            362806 non-null  object\n",
      " 1   Condition      362806 non-null  object\n",
      " 2   Date           362806 non-null  object\n",
      " 3   Drug           362806 non-null  object\n",
      " 4   DrugId         362806 non-null  int64 \n",
      " 5   EaseofUse      362806 non-null  int64 \n",
      " 6   Effectiveness  362806 non-null  int64 \n",
      " 7   Reviews        362769 non-null  object\n",
      " 8   Satisfaction   362806 non-null  int64 \n",
      " 9   Sex            362806 non-null  object\n",
      " 10  Sides          362806 non-null  object\n",
      " 11  UsefulCount    362806 non-null  int64 \n",
      "dtypes: int64(5), object(7)\n",
      "memory usage: 33.2+ MB\n"
     ]
    }
   ],
   "source": [
    "#displaying the information\n",
    "data.info()"
   ]
  },
  {
   "cell_type": "code",
   "execution_count": 4,
   "id": "01788192",
   "metadata": {},
   "outputs": [
    {
     "data": {
      "text/html": [
       "<div>\n",
       "<style scoped>\n",
       "    .dataframe tbody tr th:only-of-type {\n",
       "        vertical-align: middle;\n",
       "    }\n",
       "\n",
       "    .dataframe tbody tr th {\n",
       "        vertical-align: top;\n",
       "    }\n",
       "\n",
       "    .dataframe thead th {\n",
       "        text-align: right;\n",
       "    }\n",
       "</style>\n",
       "<table border=\"1\" class=\"dataframe\">\n",
       "  <thead>\n",
       "    <tr style=\"text-align: right;\">\n",
       "      <th></th>\n",
       "      <th>count</th>\n",
       "      <th>mean</th>\n",
       "      <th>std</th>\n",
       "      <th>min</th>\n",
       "      <th>25%</th>\n",
       "      <th>50%</th>\n",
       "      <th>75%</th>\n",
       "      <th>max</th>\n",
       "    </tr>\n",
       "  </thead>\n",
       "  <tbody>\n",
       "    <tr>\n",
       "      <th>DrugId</th>\n",
       "      <td>362806.0</td>\n",
       "      <td>36879.370774</td>\n",
       "      <td>52624.412971</td>\n",
       "      <td>1.0</td>\n",
       "      <td>4896.0</td>\n",
       "      <td>9548.0</td>\n",
       "      <td>63522.0</td>\n",
       "      <td>178546.0</td>\n",
       "    </tr>\n",
       "    <tr>\n",
       "      <th>EaseofUse</th>\n",
       "      <td>362806.0</td>\n",
       "      <td>4.019829</td>\n",
       "      <td>1.317711</td>\n",
       "      <td>1.0</td>\n",
       "      <td>3.0</td>\n",
       "      <td>5.0</td>\n",
       "      <td>5.0</td>\n",
       "      <td>10.0</td>\n",
       "    </tr>\n",
       "    <tr>\n",
       "      <th>Effectiveness</th>\n",
       "      <td>362806.0</td>\n",
       "      <td>3.532061</td>\n",
       "      <td>1.455961</td>\n",
       "      <td>1.0</td>\n",
       "      <td>3.0</td>\n",
       "      <td>4.0</td>\n",
       "      <td>5.0</td>\n",
       "      <td>10.0</td>\n",
       "    </tr>\n",
       "    <tr>\n",
       "      <th>Satisfaction</th>\n",
       "      <td>362806.0</td>\n",
       "      <td>3.135408</td>\n",
       "      <td>1.611106</td>\n",
       "      <td>1.0</td>\n",
       "      <td>1.0</td>\n",
       "      <td>3.0</td>\n",
       "      <td>5.0</td>\n",
       "      <td>10.0</td>\n",
       "    </tr>\n",
       "    <tr>\n",
       "      <th>UsefulCount</th>\n",
       "      <td>362806.0</td>\n",
       "      <td>6.744916</td>\n",
       "      <td>9.324240</td>\n",
       "      <td>0.0</td>\n",
       "      <td>1.0</td>\n",
       "      <td>4.0</td>\n",
       "      <td>9.0</td>\n",
       "      <td>255.0</td>\n",
       "    </tr>\n",
       "  </tbody>\n",
       "</table>\n",
       "</div>"
      ],
      "text/plain": [
       "                  count          mean           std  min     25%     50%  \\\n",
       "DrugId         362806.0  36879.370774  52624.412971  1.0  4896.0  9548.0   \n",
       "EaseofUse      362806.0      4.019829      1.317711  1.0     3.0     5.0   \n",
       "Effectiveness  362806.0      3.532061      1.455961  1.0     3.0     4.0   \n",
       "Satisfaction   362806.0      3.135408      1.611106  1.0     1.0     3.0   \n",
       "UsefulCount    362806.0      6.744916      9.324240  0.0     1.0     4.0   \n",
       "\n",
       "                   75%       max  \n",
       "DrugId         63522.0  178546.0  \n",
       "EaseofUse          5.0      10.0  \n",
       "Effectiveness      5.0      10.0  \n",
       "Satisfaction       5.0      10.0  \n",
       "UsefulCount        9.0     255.0  "
      ]
     },
     "execution_count": 4,
     "metadata": {},
     "output_type": "execute_result"
    }
   ],
   "source": [
    "data.describe().T # checking the statistical values"
   ]
  },
  {
   "cell_type": "code",
   "execution_count": 5,
   "id": "0dd8d7e0",
   "metadata": {},
   "outputs": [
    {
     "data": {
      "text/plain": [
       "Index(['Age', 'Condition', 'Date', 'Drug', 'DrugId', 'EaseofUse',\n",
       "       'Effectiveness', 'Reviews', 'Satisfaction', 'Sex', 'Sides',\n",
       "       'UsefulCount'],\n",
       "      dtype='object')"
      ]
     },
     "execution_count": 5,
     "metadata": {},
     "output_type": "execute_result"
    }
   ],
   "source": [
    "#checking the missing values\n",
    "data.columns"
   ]
  },
  {
   "cell_type": "code",
   "execution_count": 6,
   "id": "bdc9e1a1",
   "metadata": {},
   "outputs": [
    {
     "data": {
      "text/plain": [
       "Age                  12\n",
       "Condition          1806\n",
       "Date               4524\n",
       "Drug               7093\n",
       "DrugId             6572\n",
       "EaseofUse             7\n",
       "Effectiveness         7\n",
       "Reviews          250167\n",
       "Satisfaction          7\n",
       "Sex                   3\n",
       "Sides              1651\n",
       "UsefulCount         148\n",
       "dtype: int64"
      ]
     },
     "execution_count": 6,
     "metadata": {},
     "output_type": "execute_result"
    }
   ],
   "source": [
    "data.nunique()# finding the unique values in the columns"
   ]
  },
  {
   "cell_type": "markdown",
   "id": "6fa39d1e",
   "metadata": {},
   "source": [
    "### Checking the unique values of columns"
   ]
  },
  {
   "cell_type": "code",
   "execution_count": 7,
   "id": "79bc7d99",
   "metadata": {},
   "outputs": [
    {
     "name": "stdout",
     "output_type": "stream",
     "text": [
      "Unique values in Age are :\n",
      "45-54         80043\n",
      "55-64         75136\n",
      "35-44         55011\n",
      "25-34         49718\n",
      "65-74         41216\n",
      "19-24         24230\n",
      "75 or over    15226\n",
      "              12202\n",
      "13-18          7045\n",
      "7-12           1644\n",
      "3-6             838\n",
      "0-2             497\n",
      "Name: Age, dtype: int64\n",
      "**************************************************\n",
      "Unique values in Condition are :\n",
      "Other                                                  49765\n",
      "Pain                                                   25232\n",
      "High Blood Pressure                                    23275\n",
      "Depression                                             14509\n",
      "Birth Control                                          12253\n",
      "                                                       ...  \n",
      "Diagnostic Test for Myasthenia Gravis                      1\n",
      "Myelodysplastic Syndrome with 5q Deletion Gene Type        1\n",
      "Hunter Syndrome                                            1\n",
      "Increased Uric Acid due to Cancer Chemotherapy             1\n",
      "Adverse Effect of Benzodiazepine-Based Tranquilizer        1\n",
      "Name: Condition, Length: 1806, dtype: int64\n",
      "**************************************************\n",
      "Unique values in Date are :\n",
      "10/29/2007    404\n",
      "10/30/2007    316\n",
      "10/28/2007    315\n",
      "3/15/2010     308\n",
      "3/16/2010     295\n",
      "             ... \n",
      "10/19/2019      2\n",
      "10/27/2019      1\n",
      "10/20/2019      1\n",
      "6/28/2019       1\n",
      "6/22/2019       1\n",
      "Name: Date, Length: 4524, dtype: int64\n",
      "**************************************************\n",
      "Unique values in Drug are :\n",
      "cymbalta                               4648\n",
      "lisinopril                             4269\n",
      "lisinopril solution                    4269\n",
      "lexapro                                4134\n",
      "hydrocodone-acetaminophen              3944\n",
      "                                       ... \n",
      "sorbsan bandage                           1\n",
      "sorbsan topical wound dressing 3\" x       1\n",
      "q-pap extra strength                      1\n",
      "symax                                     1\n",
      "vanadium granules                         1\n",
      "Name: Drug, Length: 7093, dtype: int64\n",
      "**************************************************\n",
      "Unique values in DrugId are :\n",
      "6873      8538\n",
      "1025      7868\n",
      "6007      7728\n",
      "4398      5864\n",
      "14208     5451\n",
      "          ... \n",
      "4118         1\n",
      "165948       1\n",
      "54215        1\n",
      "154021       1\n",
      "149247       1\n",
      "Name: DrugId, Length: 6572, dtype: int64\n",
      "**************************************************\n",
      "Unique values in EaseofUse are :\n",
      "5     192650\n",
      "4      74732\n",
      "3      41303\n",
      "1      35927\n",
      "2      18191\n",
      "6          2\n",
      "10         1\n",
      "Name: EaseofUse, dtype: int64\n",
      "**************************************************\n",
      "Unique values in Effectiveness are :\n",
      "5     130388\n",
      "4      81821\n",
      "3      60406\n",
      "1      59387\n",
      "2      30801\n",
      "6          2\n",
      "10         1\n",
      "Name: Effectiveness, dtype: int64\n",
      "**************************************************\n",
      "Unique values in Reviews are :\n",
      "                                                                                                                                                                                                                                                                                                                                                                                                                                                                                                                                                                                                                                                                           41824\n",
      "good                                                                                                                                                                                                                                                                                                                                                                                                                                                                                                                                                                                                                                                                         183\n",
      "this treatment is awsome.  I love drugs.                                                                                                                                                                                                                                                                                                                                                                                                                                                                                                                                                                                                                                     172\n",
      "This drug is awesome.  I love drugs.                                                                                                                                                                                                                                                                                                                                                                                                                                                                                                                                                                                                                                         128\n",
      "No Script or health Insurance needed to place and order with 10% discount for all purchased. It was nice to have some from them, I just hit them at. WhatsApp only:+1(775)7735306,\\nCall/Text:+1(775)7735306,\\nWickr or Kik: peterking2014.\\nEmail: peterkings2014@gmail.com.\\nMessage code: (Med16) Discreet Delivery                                                                                                                                                                                                                                                                                                                                                        90\n",
      "                                                                                                                                                                                                                                                                                                                                                                                                                                                                                                                                                                                                                                                                           ...  \n",
      "OMG!! Is this shot painful or what!! Received Synvisc-one yesterday and almost passed out from the pain. Only one knee was causing me alot of problems and the other one was just starting to. Now, after receiving an injection in both knees, I am having to rely on crutches and pain meds. It feels like someone stuffed a rubber eraser under both my kneecaps. When is this nightmare going to get better? I was optimistic that relief would happen after I left the doctor's office. The only thing lighter was my check book. I think inject 6ml of thick gel is too much to do at one time. I'll have to give it some time before I EVER go thru this again.         1\n",
      "Just take it now for 3 weeks\\nFeel a little better but still had a little weightgain. muscle  hurting.But overall feel better.                                                                                                                                                                                                                                                                                                                                                                                                                                                                                                                                                 1\n",
      "This has been a miracle drug for.  Yes I gained some wieght, but it was well worth it.  For the first time in years, I am not suicidal and I don't have sickening thoughts.  This medication has helped my greatly.                                                                                                                                                                                                                                                                                                                                                                                                                                                            1\n",
      "worked quickly, got out of bed and had energy for first time in months.                                                                                                                                                                                                                                                                                                                                                                                                                                                                                                                                                                                                        1\n",
      "One year ago, I tried Chantix and had to stop taking it because I was so nauseous in the morning.  Three weeks ago I started it again and found that if I eat 10 minutes before taking the pill, I don't get nauseous at all.  I have been smoke free for two weeks and will never smoke again.                                                                                                                                                                                                                                                                                                                                                                                1\n",
      "Name: Reviews, Length: 250167, dtype: int64\n",
      "**************************************************\n",
      "Unique values in Satisfaction are :\n",
      "5     111550\n",
      "1     100901\n",
      "4      63158\n",
      "3      51852\n",
      "2      35342\n",
      "6          2\n",
      "10         1\n",
      "Name: Satisfaction, dtype: int64\n",
      "**************************************************\n",
      "Unique values in Sex are :\n",
      "Female    238226\n",
      "Male       98043\n",
      "           26537\n",
      "Name: Sex, dtype: int64\n",
      "**************************************************\n",
      "Unique values in Sides are :\n",
      "                                                                                                                                                       17460\n",
      "Nausea ,  vomiting ,  constipation ,  lightheadedness ,  dizziness , or drowsiness may occur.                                                          15563\n",
      "Nausea ,  vomiting ,  headache ,  bloating ,  breast  tenderness, swelling of the  ankles /feet (fluid retention), or  weight  change may occur.       12116\n",
      "Dizziness ,  lightheadedness , tiredness, or  headache  may occur as your body adjusts to the  medication . Dry  cough  may also occur.                 9162\n",
      "Drowsiness,  dizziness , loss of coordination, tiredness, blurred/ double vision , unusual  eye  movements, or shaking (tremor) may occur.              7790\n",
      "                                                                                                                                                       ...  \n",
      "Nausea ,  vomiting ,  stomach / abdominal pain , gas,  diarrhea ,  weight loss ,  headache ,  muscle cramps ,  dizziness , or  weakness  may occur.        1\n",
      "Headache ,  nausea , chills, or fever may occur.                                                                                                           1\n",
      "Nausea ,  vomiting ,  diarrhea , abdominal/ stomach pain ,  cough ,  dizziness ,  headache , flushing, or loss of appetite may occur.                      1\n",
      "Mild  skin  burning, redness, and peeling of the treated area may occur as expected.                                                                       1\n",
      "Diarrhea ,  nausea , or  heartburn  may occur.                                                                                                             1\n",
      "Name: Sides, Length: 1651, dtype: int64\n",
      "**************************************************\n",
      "Unique values in UsefulCount are :\n",
      "0      71608\n",
      "1      46240\n",
      "2      34701\n",
      "3      27307\n",
      "4      22862\n",
      "       ...  \n",
      "136        1\n",
      "178        1\n",
      "176        1\n",
      "169        1\n",
      "95         1\n",
      "Name: UsefulCount, Length: 148, dtype: int64\n",
      "**************************************************\n"
     ]
    }
   ],
   "source": [
    "for i in data.columns:\n",
    "    print('Unique values in',i, 'are :')\n",
    "    print(data[i].value_counts())\n",
    "    print('*'*50)"
   ]
  },
  {
   "cell_type": "markdown",
   "id": "66887d1e",
   "metadata": {},
   "source": [
    "* Majority of the patients is in the age group 45-54\n",
    "* Ease of use and effectiveness of drugs are given 5 rating by most of the patients\n"
   ]
  },
  {
   "cell_type": "markdown",
   "id": "070f9e40",
   "metadata": {},
   "source": [
    "### 1. Fill in all the missing values present in all the columns in the dataset"
   ]
  },
  {
   "cell_type": "code",
   "execution_count": 8,
   "id": "88d751dd",
   "metadata": {},
   "outputs": [
    {
     "data": {
      "text/plain": [
       "Age               0\n",
       "Condition         0\n",
       "Date              0\n",
       "Drug              0\n",
       "DrugId            0\n",
       "EaseofUse         0\n",
       "Effectiveness     0\n",
       "Reviews          37\n",
       "Satisfaction      0\n",
       "Sex               0\n",
       "Sides             0\n",
       "UsefulCount       0\n",
       "dtype: int64"
      ]
     },
     "execution_count": 8,
     "metadata": {},
     "output_type": "execute_result"
    }
   ],
   "source": [
    "data.isnull().sum()"
   ]
  },
  {
   "cell_type": "markdown",
   "id": "6a4bd7fc",
   "metadata": {},
   "source": [
    "Only one column 'Reviews' has the missing values."
   ]
  },
  {
   "cell_type": "code",
   "execution_count": 9,
   "id": "5b345c72",
   "metadata": {},
   "outputs": [],
   "source": [
    "data=data.dropna() #Filling missing values"
   ]
  },
  {
   "cell_type": "code",
   "execution_count": 10,
   "id": "cc792533",
   "metadata": {},
   "outputs": [
    {
     "data": {
      "text/plain": [
       "Age              0\n",
       "Condition        0\n",
       "Date             0\n",
       "Drug             0\n",
       "DrugId           0\n",
       "EaseofUse        0\n",
       "Effectiveness    0\n",
       "Reviews          0\n",
       "Satisfaction     0\n",
       "Sex              0\n",
       "Sides            0\n",
       "UsefulCount      0\n",
       "dtype: int64"
      ]
     },
     "execution_count": 10,
     "metadata": {},
     "output_type": "execute_result"
    }
   ],
   "source": [
    "data.isnull().sum()"
   ]
  },
  {
   "cell_type": "markdown",
   "id": "65f075b5",
   "metadata": {},
   "source": [
    "### 2. Checking and handling outliers"
   ]
  },
  {
   "cell_type": "code",
   "execution_count": 11,
   "id": "fb7a260a",
   "metadata": {},
   "outputs": [
    {
     "data": {
      "text/plain": [
       "DrugId           29795\n",
       "EaseofUse            1\n",
       "Effectiveness        1\n",
       "Satisfaction         0\n",
       "UsefulCount      23247\n",
       "dtype: int64"
      ]
     },
     "execution_count": 11,
     "metadata": {},
     "output_type": "execute_result"
    }
   ],
   "source": [
    "#Finding the 25th percentile and 75th percentiles.\n",
    "Q1 = data.quantile(0.25)             \n",
    "Q3 = data.quantile(0.75)\n",
    "\n",
    " #Inter Quantile Range (75th perentile - 25th percentile)\n",
    "IQR = Q3 - Q1                          \n",
    "\n",
    "#Finding lower and upper bounds for all values. All values outside these bounds are outliers\n",
    "lower_limit=Q1-1.5*IQR                        \n",
    "upper_limit=Q3+1.5*IQR\n",
    "\n",
    "#Finding the sum of the outliers in each column of int and float types.\n",
    "((data.select_dtypes(include=['float64','int64'])<lower_limit) | (data.select_dtypes(include=['float64','int64'])>upper_limit)).sum()"
   ]
  },
  {
   "cell_type": "markdown",
   "id": "3605dd43",
   "metadata": {},
   "source": [
    "Outliers are present in four columns. \n",
    "\n",
    "But for 'DrugId' and 'UsefulCount', the number of outliers is very large. Its removal will affect our data problem. \n",
    "\n",
    "Hence we deal only with columns 'EaseofUse' and 'Effectiveness'. "
   ]
  },
  {
   "cell_type": "markdown",
   "id": "1ed7c2c7",
   "metadata": {},
   "source": [
    "#### i.checking the outlier in 'EaseofUse' column"
   ]
  },
  {
   "cell_type": "code",
   "execution_count": 12,
   "id": "66bedab0",
   "metadata": {},
   "outputs": [
    {
     "data": {
      "text/plain": [
       "Text(0.5, 1.0, 'Box plot  of EaseofUse  (before handling outliers)')"
      ]
     },
     "execution_count": 12,
     "metadata": {},
     "output_type": "execute_result"
    },
    {
     "data": {
      "image/png": "[encoded data removed]",
      "text/plain": [
       "<Figure size 432x288 with 1 Axes>"
      ]
     },
     "metadata": {
      "needs_background": "light"
     },
     "output_type": "display_data"
    }
   ],
   "source": [
    "plt.boxplot(data['EaseofUse'])\n",
    "plt.title('Box plot  of EaseofUse  (before handling outliers)')"
   ]
  },
  {
   "cell_type": "code",
   "execution_count": 13,
   "id": "912bdb9d",
   "metadata": {},
   "outputs": [
    {
     "name": "stdout",
     "output_type": "stream",
     "text": [
      "index_of_outliers of EaseofUse\n",
      "\n",
      "Int64Index([273577], dtype='int64')\n"
     ]
    }
   ],
   "source": [
    "# finding index of outliers \n",
    "index_of_outliers=data.loc[data['EaseofUse'].gt(upper_limit['EaseofUse'])| data['EaseofUse'].lt(lower_limit['EaseofUse']) ].index\n",
    "print('index_of_outliers of EaseofUse\\n')\n",
    "print(index_of_outliers)\n"
   ]
  },
  {
   "cell_type": "code",
   "execution_count": 14,
   "id": "2714a1ad",
   "metadata": {},
   "outputs": [
    {
     "name": "stderr",
     "output_type": "stream",
     "text": [
      "C:\\Users\\DELL\\anaconda3\\lib\\site-packages\\pandas\\core\\frame.py:4906: SettingWithCopyWarning: \n",
      "A value is trying to be set on a copy of a slice from a DataFrame\n",
      "\n",
      "See the caveats in the documentation: https://pandas.pydata.org/pandas-docs/stable/user_guide/indexing.html#returning-a-view-versus-a-copy\n",
      "  return super().drop(\n"
     ]
    },
    {
     "data": {
      "text/plain": [
       "Text(0.5, 1.0, 'Box plot  of EaseofUse  (after handling outliers)')"
      ]
     },
     "execution_count": 14,
     "metadata": {},
     "output_type": "execute_result"
    },
    {
     "data": {
      "image/png": "[encoded data removed]",
      "text/plain": [
       "<Figure size 432x288 with 1 Axes>"
      ]
     },
     "metadata": {
      "needs_background": "light"
     },
     "output_type": "display_data"
    }
   ],
   "source": [
    "#removing outliers\n",
    "\n",
    "\n",
    "data.drop(index=data.loc[data['EaseofUse'].gt(upper_limit['EaseofUse'])| data['EaseofUse'].lt(lower_limit['EaseofUse'])].index,inplace=True)\n",
    "\n",
    "#displaying the data\n",
    "plt.boxplot(data['EaseofUse'])\n",
    "plt.title('Box plot  of EaseofUse  (after handling outliers)')"
   ]
  },
  {
   "cell_type": "markdown",
   "id": "876d2061",
   "metadata": {},
   "source": [
    "* All the outliers are removed from EaseofUse."
   ]
  },
  {
   "cell_type": "markdown",
   "id": "5f7711aa",
   "metadata": {},
   "source": [
    "#### ii. checking 'Effectiveness' column"
   ]
  },
  {
   "cell_type": "code",
   "execution_count": 15,
   "id": "0da58320",
   "metadata": {},
   "outputs": [
    {
     "data": {
      "text/plain": [
       "Text(0.5, 1.0, 'Box plot  of Effectiveness  (before handling outliers)')"
      ]
     },
     "execution_count": 15,
     "metadata": {},
     "output_type": "execute_result"
    },
    {
     "data": {
      "image/png": "[encoded data removed]",
      "text/plain": [
       "<Figure size 432x288 with 1 Axes>"
      ]
     },
     "metadata": {
      "needs_background": "light"
     },
     "output_type": "display_data"
    }
   ],
   "source": [
    "plt.boxplot(data['Effectiveness'])\n",
    "plt.title('Box plot  of Effectiveness  (before handling outliers)')"
   ]
  },
  {
   "cell_type": "code",
   "execution_count": 16,
   "id": "717fcfce",
   "metadata": {},
   "outputs": [
    {
     "name": "stdout",
     "output_type": "stream",
     "text": [
      "index_of_outliers of Effectiveness\n",
      "\n",
      "Int64Index([], dtype='int64')\n"
     ]
    }
   ],
   "source": [
    "# finding index of outliers \n",
    "index_of_outliers=data.loc[data['Effectiveness'].gt(upper_limit['Effectiveness'])| data['Effectiveness'].lt(lower_limit['Effectiveness']) ].index\n",
    "print('index_of_outliers of Effectiveness\\n')\n",
    "print(index_of_outliers)\n"
   ]
  },
  {
   "cell_type": "code",
   "execution_count": 17,
   "id": "a7d1047b",
   "metadata": {},
   "outputs": [
    {
     "name": "stderr",
     "output_type": "stream",
     "text": [
      "C:\\Users\\DELL\\anaconda3\\lib\\site-packages\\pandas\\core\\frame.py:4906: SettingWithCopyWarning: \n",
      "A value is trying to be set on a copy of a slice from a DataFrame\n",
      "\n",
      "See the caveats in the documentation: https://pandas.pydata.org/pandas-docs/stable/user_guide/indexing.html#returning-a-view-versus-a-copy\n",
      "  return super().drop(\n"
     ]
    },
    {
     "data": {
      "text/plain": [
       "Text(0.5, 1.0, 'Box plot  of Effectiveness  (after handling outliers)')"
      ]
     },
     "execution_count": 17,
     "metadata": {},
     "output_type": "execute_result"
    },
    {
     "data": {
      "image/png": "[encoded data removed]",
      "text/plain": [
       "<Figure size 432x288 with 1 Axes>"
      ]
     },
     "metadata": {
      "needs_background": "light"
     },
     "output_type": "display_data"
    }
   ],
   "source": [
    "#removing outliers\n",
    "\n",
    "\n",
    "data.drop(index=data.loc[data['Effectiveness'].gt(upper_limit['Effectiveness'])| data['Effectiveness'].lt(lower_limit['Effectiveness'])].index,inplace=True)\n",
    "\n",
    "#displaying the data\n",
    "plt.boxplot(data['Effectiveness'])\n",
    "plt.title('Box plot  of Effectiveness  (after handling outliers)')"
   ]
  },
  {
   "cell_type": "markdown",
   "id": "d02baf1e",
   "metadata": {},
   "source": [
    "* All the outliers are removed from Effectiveness."
   ]
  },
  {
   "cell_type": "markdown",
   "id": "7011bee1",
   "metadata": {},
   "source": [
    "#### Correlation matrix and pairplot"
   ]
  },
  {
   "cell_type": "code",
   "execution_count": 18,
   "id": "99040013",
   "metadata": {},
   "outputs": [
    {
     "data": {
      "image/png": "[encoded data removed]",
      "text/plain": [
       "<Figure size 1080x720 with 2 Axes>"
      ]
     },
     "metadata": {
      "needs_background": "light"
     },
     "output_type": "display_data"
    }
   ],
   "source": [
    "plt.figure(figsize=(15,10))\n",
    "sns.heatmap(data.corr(),annot=True)\n",
    "plt.show()"
   ]
  },
  {
   "cell_type": "code",
   "execution_count": 19,
   "id": "8094d410",
   "metadata": {},
   "outputs": [
    {
     "data": {
      "text/plain": [
       "<seaborn.axisgrid.PairGrid at 0x20354dbe310>"
      ]
     },
     "execution_count": 19,
     "metadata": {},
     "output_type": "execute_result"
    },
    {
     "data": {
      "image/png": "[encoded data removed]",
      "text/plain": [
       "<Figure size 900x900 with 30 Axes>"
      ]
     },
     "metadata": {
      "needs_background": "light"
     },
     "output_type": "display_data"
    }
   ],
   "source": [
    "sns.pairplot(data)"
   ]
  },
  {
   "cell_type": "markdown",
   "id": "93523553",
   "metadata": {},
   "source": [
    "### 3.Encoding"
   ]
  },
  {
   "cell_type": "code",
   "execution_count": 20,
   "id": "f24861fb",
   "metadata": {},
   "outputs": [
    {
     "name": "stderr",
     "output_type": "stream",
     "text": [
      "C:\\Users\\DELL\\anaconda3\\lib\\site-packages\\pandas\\core\\frame.py:3641: SettingWithCopyWarning: \n",
      "A value is trying to be set on a copy of a slice from a DataFrame.\n",
      "Try using .loc[row_indexer,col_indexer] = value instead\n",
      "\n",
      "See the caveats in the documentation: https://pandas.pydata.org/pandas-docs/stable/user_guide/indexing.html#returning-a-view-versus-a-copy\n",
      "  self[k1] = value[k2]\n"
     ]
    },
    {
     "name": "stdout",
     "output_type": "stream",
     "text": [
      "<class 'pandas.core.frame.DataFrame'>\n",
      "Int64Index: 362768 entries, 0 to 362805\n",
      "Data columns (total 12 columns):\n",
      " #   Column         Non-Null Count   Dtype   \n",
      "---  ------         --------------   -----   \n",
      " 0   Age            362768 non-null  category\n",
      " 1   Condition      362768 non-null  category\n",
      " 2   Date           362768 non-null  category\n",
      " 3   Drug           362768 non-null  category\n",
      " 4   DrugId         362768 non-null  int64   \n",
      " 5   EaseofUse      362768 non-null  int64   \n",
      " 6   Effectiveness  362768 non-null  int64   \n",
      " 7   Reviews        362768 non-null  category\n",
      " 8   Satisfaction   362768 non-null  int64   \n",
      " 9   Sex            362768 non-null  category\n",
      " 10  Sides          362768 non-null  category\n",
      " 11  UsefulCount    362768 non-null  int64   \n",
      "dtypes: category(7), int64(5)\n",
      "memory usage: 40.1 MB\n"
     ]
    }
   ],
   "source": [
    "category_columns = ['Age','Date','Reviews','Condition','Drug', 'Sex', 'Sides']\n",
    "data[category_columns] = data[category_columns].astype('category')\n",
    "data.info()"
   ]
  },
  {
   "cell_type": "code",
   "execution_count": 21,
   "id": "b0093187",
   "metadata": {},
   "outputs": [
    {
     "name": "stderr",
     "output_type": "stream",
     "text": [
      "C:\\Users\\DELL\\AppData\\Local\\Temp/ipykernel_16060/1881894366.py:6: SettingWithCopyWarning: \n",
      "A value is trying to be set on a copy of a slice from a DataFrame.\n",
      "Try using .loc[row_indexer,col_indexer] = value instead\n",
      "\n",
      "See the caveats in the documentation: https://pandas.pydata.org/pandas-docs/stable/user_guide/indexing.html#returning-a-view-versus-a-copy\n",
      "  data[column] = le.fit_transform(data[column])\n"
     ]
    },
    {
     "data": {
      "text/html": [
       "<div>\n",
       "<style scoped>\n",
       "    .dataframe tbody tr th:only-of-type {\n",
       "        vertical-align: middle;\n",
       "    }\n",
       "\n",
       "    .dataframe tbody tr th {\n",
       "        vertical-align: top;\n",
       "    }\n",
       "\n",
       "    .dataframe thead th {\n",
       "        text-align: right;\n",
       "    }\n",
       "</style>\n",
       "<table border=\"1\" class=\"dataframe\">\n",
       "  <thead>\n",
       "    <tr style=\"text-align: right;\">\n",
       "      <th></th>\n",
       "      <th>Age</th>\n",
       "      <th>Condition</th>\n",
       "      <th>Date</th>\n",
       "      <th>Drug</th>\n",
       "      <th>DrugId</th>\n",
       "      <th>EaseofUse</th>\n",
       "      <th>Effectiveness</th>\n",
       "      <th>Reviews</th>\n",
       "      <th>Satisfaction</th>\n",
       "      <th>Sex</th>\n",
       "      <th>Sides</th>\n",
       "      <th>UsefulCount</th>\n",
       "    </tr>\n",
       "  </thead>\n",
       "  <tbody>\n",
       "    <tr>\n",
       "      <th>0</th>\n",
       "      <td>11</td>\n",
       "      <td>1595</td>\n",
       "      <td>4317</td>\n",
       "      <td>4</td>\n",
       "      <td>146724</td>\n",
       "      <td>5</td>\n",
       "      <td>5</td>\n",
       "      <td>128864</td>\n",
       "      <td>5</td>\n",
       "      <td>2</td>\n",
       "      <td>413</td>\n",
       "      <td>0</td>\n",
       "    </tr>\n",
       "    <tr>\n",
       "      <th>1</th>\n",
       "      <td>4</td>\n",
       "      <td>423</td>\n",
       "      <td>55</td>\n",
       "      <td>4</td>\n",
       "      <td>146724</td>\n",
       "      <td>5</td>\n",
       "      <td>5</td>\n",
       "      <td>214157</td>\n",
       "      <td>5</td>\n",
       "      <td>1</td>\n",
       "      <td>413</td>\n",
       "      <td>1</td>\n",
       "    </tr>\n",
       "    <tr>\n",
       "      <th>2</th>\n",
       "      <td>9</td>\n",
       "      <td>1183</td>\n",
       "      <td>3502</td>\n",
       "      <td>6866</td>\n",
       "      <td>144731</td>\n",
       "      <td>2</td>\n",
       "      <td>3</td>\n",
       "      <td>248797</td>\n",
       "      <td>3</td>\n",
       "      <td>1</td>\n",
       "      <td>0</td>\n",
       "      <td>0</td>\n",
       "    </tr>\n",
       "    <tr>\n",
       "      <th>3</th>\n",
       "      <td>11</td>\n",
       "      <td>1183</td>\n",
       "      <td>4339</td>\n",
       "      <td>6866</td>\n",
       "      <td>144731</td>\n",
       "      <td>2</td>\n",
       "      <td>2</td>\n",
       "      <td>25014</td>\n",
       "      <td>1</td>\n",
       "      <td>1</td>\n",
       "      <td>0</td>\n",
       "      <td>0</td>\n",
       "    </tr>\n",
       "    <tr>\n",
       "      <th>4</th>\n",
       "      <td>6</td>\n",
       "      <td>1183</td>\n",
       "      <td>352</td>\n",
       "      <td>6866</td>\n",
       "      <td>144731</td>\n",
       "      <td>1</td>\n",
       "      <td>1</td>\n",
       "      <td>157693</td>\n",
       "      <td>1</td>\n",
       "      <td>2</td>\n",
       "      <td>0</td>\n",
       "      <td>1</td>\n",
       "    </tr>\n",
       "  </tbody>\n",
       "</table>\n",
       "</div>"
      ],
      "text/plain": [
       "   Age  Condition  Date  Drug  DrugId  EaseofUse  Effectiveness  Reviews  \\\n",
       "0   11       1595  4317     4  146724          5              5   128864   \n",
       "1    4        423    55     4  146724          5              5   214157   \n",
       "2    9       1183  3502  6866  144731          2              3   248797   \n",
       "3   11       1183  4339  6866  144731          2              2    25014   \n",
       "4    6       1183   352  6866  144731          1              1   157693   \n",
       "\n",
       "   Satisfaction  Sex  Sides  UsefulCount  \n",
       "0             5    2    413            0  \n",
       "1             5    1    413            1  \n",
       "2             3    1      0            0  \n",
       "3             1    1      0            0  \n",
       "4             1    2      0            1  "
      ]
     },
     "execution_count": 21,
     "metadata": {},
     "output_type": "execute_result"
    }
   ],
   "source": [
    "# Performing label encoding to the categorical variables.\n",
    "from sklearn.preprocessing import LabelEncoder\n",
    "le = LabelEncoder()\n",
    "categorical_columns = ['Age','Date','Reviews','Condition','Drug', 'Sex', 'Sides']\n",
    "for column in categorical_columns:\n",
    "    data[column] = le.fit_transform(data[column])\n",
    "data.head()"
   ]
  },
  {
   "cell_type": "code",
   "execution_count": 22,
   "id": "ff4735b9",
   "metadata": {},
   "outputs": [
    {
     "name": "stdout",
     "output_type": "stream",
     "text": [
      "<class 'pandas.core.frame.DataFrame'>\n",
      "Int64Index: 362768 entries, 0 to 362805\n",
      "Data columns (total 12 columns):\n",
      " #   Column         Non-Null Count   Dtype\n",
      "---  ------         --------------   -----\n",
      " 0   Age            362768 non-null  int32\n",
      " 1   Condition      362768 non-null  int32\n",
      " 2   Date           362768 non-null  int32\n",
      " 3   Drug           362768 non-null  int32\n",
      " 4   DrugId         362768 non-null  int64\n",
      " 5   EaseofUse      362768 non-null  int64\n",
      " 6   Effectiveness  362768 non-null  int64\n",
      " 7   Reviews        362768 non-null  int32\n",
      " 8   Satisfaction   362768 non-null  int64\n",
      " 9   Sex            362768 non-null  int32\n",
      " 10  Sides          362768 non-null  int32\n",
      " 11  UsefulCount    362768 non-null  int64\n",
      "dtypes: int32(7), int64(5)\n",
      "memory usage: 34.4 MB\n"
     ]
    }
   ],
   "source": [
    "data.info()"
   ]
  },
  {
   "cell_type": "markdown",
   "id": "b7a99517",
   "metadata": {},
   "source": [
    "### 4.Feature Reduction"
   ]
  },
  {
   "cell_type": "code",
   "execution_count": 23,
   "id": "4468daed",
   "metadata": {},
   "outputs": [],
   "source": [
    "# Dropping columns 'Date', 'Reviews' and 'UsefulCount', since they do not provide any useful information for our analysis\n",
    "X=data.drop(['Sides','Date','Reviews','UsefulCount'],axis=1)\n",
    "y=data['Sides']"
   ]
  },
  {
   "cell_type": "markdown",
   "id": "58f227ce",
   "metadata": {},
   "source": [
    "### II. EXPLORATORY DATA ANALYSIS"
   ]
  },
  {
   "cell_type": "markdown",
   "id": "20b6ab23",
   "metadata": {},
   "source": [
    "### 1.UNIVARIATE ANALYSIS"
   ]
  },
  {
   "cell_type": "code",
   "execution_count": 24,
   "id": "2709d439",
   "metadata": {},
   "outputs": [
    {
     "name": "stderr",
     "output_type": "stream",
     "text": [
      "C:\\Users\\DELL\\anaconda3\\lib\\site-packages\\seaborn\\_decorators.py:36: FutureWarning: Pass the following variable as a keyword arg: x. From version 0.12, the only valid positional argument will be `data`, and passing other arguments without an explicit keyword will result in an error or misinterpretation.\n",
      "  warnings.warn(\n"
     ]
    },
    {
     "data": {
      "text/plain": [
       "Text(0.5, 1.0, 'Sex')"
      ]
     },
     "execution_count": 24,
     "metadata": {},
     "output_type": "execute_result"
    },
    {
     "data": {
      "image/png": "[encoded data removed]",
      "text/plain": [
       "<Figure size 432x288 with 1 Axes>"
      ]
     },
     "metadata": {
      "needs_background": "light"
     },
     "output_type": "display_data"
    }
   ],
   "source": [
    "sns.countplot(data['Sex'])\n",
    "plt.title('Sex')"
   ]
  },
  {
   "cell_type": "markdown",
   "id": "7d7c4e4f",
   "metadata": {},
   "source": [
    "Gender:The number of female patients is very large in compared to men and others."
   ]
  },
  {
   "cell_type": "code",
   "execution_count": 25,
   "id": "a245816b",
   "metadata": {},
   "outputs": [
    {
     "name": "stderr",
     "output_type": "stream",
     "text": [
      "C:\\Users\\DELL\\anaconda3\\lib\\site-packages\\seaborn\\_decorators.py:36: FutureWarning: Pass the following variable as a keyword arg: x. From version 0.12, the only valid positional argument will be `data`, and passing other arguments without an explicit keyword will result in an error or misinterpretation.\n",
      "  warnings.warn(\n"
     ]
    },
    {
     "data": {
      "text/plain": [
       "Text(0.5, 1.0, 'Effectiveness')"
      ]
     },
     "execution_count": 25,
     "metadata": {},
     "output_type": "execute_result"
    },
    {
     "data": {
      "image/png": "[encoded data removed]",
      "text/plain": [
       "<Figure size 432x288 with 1 Axes>"
      ]
     },
     "metadata": {
      "needs_background": "light"
     },
     "output_type": "display_data"
    }
   ],
   "source": [
    "sns.countplot(data['Effectiveness'])\n",
    "plt.title('Effectiveness')"
   ]
  },
  {
   "cell_type": "markdown",
   "id": "9607ad1f",
   "metadata": {},
   "source": [
    "Most of the patients had given five star rating for effectiveness. Hence drugs are successively effected in many patients."
   ]
  },
  {
   "cell_type": "markdown",
   "id": "0188474b",
   "metadata": {},
   "source": [
    "### 2.MULTIVARIATE ANALYSIS"
   ]
  },
  {
   "cell_type": "code",
   "execution_count": 26,
   "id": "40c4dec0",
   "metadata": {},
   "outputs": [
    {
     "name": "stderr",
     "output_type": "stream",
     "text": [
      "C:\\Users\\DELL\\anaconda3\\lib\\site-packages\\seaborn\\_decorators.py:36: FutureWarning: Pass the following variable as a keyword arg: x. From version 0.12, the only valid positional argument will be `data`, and passing other arguments without an explicit keyword will result in an error or misinterpretation.\n",
      "  warnings.warn(\n"
     ]
    },
    {
     "data": {
      "text/plain": [
       "Text(0.5, 1.0, 'Sex VS Effectiveness')"
      ]
     },
     "execution_count": 26,
     "metadata": {},
     "output_type": "execute_result"
    },
    {
     "data": {
      "image/png": "[encoded data removed]",
      "text/plain": [
       "<Figure size 432x288 with 1 Axes>"
      ]
     },
     "metadata": {
      "needs_background": "light"
     },
     "output_type": "display_data"
    }
   ],
   "source": [
    "sns.countplot(data['Effectiveness'],hue=data['Sex'])\n",
    "plt.title('Sex VS Effectiveness')"
   ]
  },
  {
   "cell_type": "markdown",
   "id": "956cd919",
   "metadata": {},
   "source": [
    "Since female is more in number, the rating also depends on them. All the genders are satisfied with drugs' effectiveness, since height of 5 star rating's graph is large."
   ]
  },
  {
   "cell_type": "markdown",
   "id": "4266194d",
   "metadata": {},
   "source": [
    "## III. PREDICTIVE MODELLING"
   ]
  },
  {
   "cell_type": "code",
   "execution_count": 57,
   "id": "add1e497",
   "metadata": {},
   "outputs": [],
   "source": [
    "# Already splitted the dataset into input and output sets"
   ]
  },
  {
   "cell_type": "code",
   "execution_count": null,
   "id": "0f317b51",
   "metadata": {},
   "outputs": [],
   "source": [
    "# X = data.drop(['Sides', 'Date','Reviews', 'UsefulCount'],axis=1) # X is the input set\n",
    "y = data['Sides']   # y is the target"
   ]
  },
  {
   "cell_type": "code",
   "execution_count": 29,
   "id": "b47b777c",
   "metadata": {},
   "outputs": [
    {
     "data": {
      "text/plain": [
       "(362768, 8)"
      ]
     },
     "execution_count": 29,
     "metadata": {},
     "output_type": "execute_result"
    }
   ],
   "source": [
    "X.shape"
   ]
  },
  {
   "cell_type": "code",
   "execution_count": 30,
   "id": "d3ba6c44",
   "metadata": {},
   "outputs": [
    {
     "data": {
      "text/plain": [
       "(362768,)"
      ]
     },
     "execution_count": 30,
     "metadata": {},
     "output_type": "execute_result"
    }
   ],
   "source": [
    "y.shape"
   ]
  },
  {
   "cell_type": "code",
   "execution_count": 31,
   "id": "0dd0a88a",
   "metadata": {},
   "outputs": [],
   "source": [
    "from sklearn.model_selection import train_test_split\n",
    "X_train,X_test,y_train,y_test=train_test_split(X,y,random_state=42,test_size=0.2)"
   ]
  },
  {
   "cell_type": "code",
   "execution_count": 32,
   "id": "4fea40d2",
   "metadata": {},
   "outputs": [],
   "source": [
    "from sklearn.metrics import confusion_matrix,classification_report,accuracy_score, precision_score\n",
    "from sklearn.metrics import plot_confusion_matrix"
   ]
  },
  {
   "cell_type": "markdown",
   "id": "1289c4de",
   "metadata": {},
   "source": [
    "### (i) KNN"
   ]
  },
  {
   "cell_type": "code",
   "execution_count": 33,
   "id": "f7b968ba",
   "metadata": {},
   "outputs": [],
   "source": [
    "from sklearn.neighbors import KNeighborsClassifier"
   ]
  },
  {
   "cell_type": "code",
   "execution_count": 34,
   "id": "3e5972a2",
   "metadata": {},
   "outputs": [
    {
     "data": {
      "text/plain": [
       "[0.9604294732199465,\n",
       " 0.9565427130137553,\n",
       " 0.9578796482619841,\n",
       " 0.9533450946880944,\n",
       " 0.9533864432009262,\n",
       " 0.9489208038150895,\n",
       " 0.948162747746506,\n",
       " 0.9449651294208452,\n",
       " 0.9429804008049177,\n",
       " 0.9400308735562478,\n",
       " 0.9389144637097886,\n",
       " 0.9364473357774898]"
      ]
     },
     "execution_count": 34,
     "metadata": {},
     "output_type": "execute_result"
    }
   ],
   "source": [
    "# Identifty the best values for n_neighbors\n",
    "acc_values = []\n",
    "neighbors = np.arange(3,15)\n",
    "for k in neighbors:\n",
    "    kncdf = KNeighborsClassifier(n_neighbors=k,metric=\"minkowski\")\n",
    "    model = kncdf.fit(X_train,y_train)\n",
    "    predictions = model.predict(X_test)\n",
    "    acc_values.append(accuracy_score(y_test, predictions))\n",
    "    \n",
    "acc_values"
   ]
  },
  {
   "cell_type": "code",
   "execution_count": 35,
   "id": "c5043fb3",
   "metadata": {},
   "outputs": [
    {
     "data": {
      "text/plain": [
       "Text(0, 0.5, 'Accuracy')"
      ]
     },
     "execution_count": 35,
     "metadata": {},
     "output_type": "execute_result"
    },
    {
     "data": {
      "image/png": "[encoded data removed]",
      "text/plain": [
       "<Figure size 432x288 with 1 Axes>"
      ]
     },
     "metadata": {
      "needs_background": "light"
     },
     "output_type": "display_data"
    }
   ],
   "source": [
    "plt.plot(neighbors,acc_values,'o-')\n",
    "plt.xlabel(\"K-value\")\n",
    "plt.ylabel(\"Accuracy\")"
   ]
  },
  {
   "cell_type": "code",
   "execution_count": 36,
   "id": "5b991bc6",
   "metadata": {},
   "outputs": [],
   "source": [
    "#kncdf = KNeighborsClassifier(leaf_size=1,n_neighbors=5,metric=\"minkowski\",p=1)\n",
    "#model = kncdf.fit(X_train,y_train)\n",
    "#predictions = model.predict(X_test)\n",
    "#plot_confusion_matrix(kncdf, X_test, y_test)\n",
    "#print(classification_report(y_test, predictions))"
   ]
  },
  {
   "cell_type": "code",
   "execution_count": 37,
   "id": "a8385fe0",
   "metadata": {},
   "outputs": [],
   "source": [
    "kncdf=KNeighborsClassifier(n_neighbors=5,metric='minkowski')\n",
    "kncdf.fit(X_train,y_train)\n",
    "y_pred=kncdf.predict(X_test)"
   ]
  },
  {
   "cell_type": "code",
   "execution_count": 38,
   "id": "50fe0bf3",
   "metadata": {},
   "outputs": [
    {
     "name": "stdout",
     "output_type": "stream",
     "text": [
      "Accuracy is: 0.9364473357774898\n"
     ]
    }
   ],
   "source": [
    "print(\"Accuracy is:\",accuracy_score(y_test,predictions))"
   ]
  },
  {
   "cell_type": "code",
   "execution_count": 39,
   "id": "f162d117",
   "metadata": {},
   "outputs": [
    {
     "data": {
      "text/plain": [
       "array([[3095,    0,    0, ...,    0,    0,    0],\n",
       "       [   0,    3,    0, ...,    0,    0,    0],\n",
       "       [   0,    0,    5, ...,    0,    0,    0],\n",
       "       ...,\n",
       "       [   0,    0,    0, ...,    0,    0,    0],\n",
       "       [   0,    0,    0, ...,    0,   15,    0],\n",
       "       [   0,    0,    0, ...,    0,    0,   14]], dtype=int64)"
      ]
     },
     "execution_count": 39,
     "metadata": {},
     "output_type": "execute_result"
    }
   ],
   "source": [
    "confusion_matrix(y_test,predictions)"
   ]
  },
  {
   "cell_type": "code",
   "execution_count": 40,
   "id": "892e6192",
   "metadata": {},
   "outputs": [
    {
     "data": {
      "text/plain": [
       "<bound method NDFrame.describe of         Age  Condition  Date  Drug  DrugId  EaseofUse  Effectiveness  Reviews  \\\n",
       "0        11       1595  4317     4  146724          5              5   128864   \n",
       "1         4        423    55     4  146724          5              5   214157   \n",
       "2         9       1183  3502  6866  144731          2              3   248797   \n",
       "3        11       1183  4339  6866  144731          2              2    25014   \n",
       "4         6       1183   352  6866  144731          1              1   157693   \n",
       "...     ...        ...   ...   ...     ...        ...            ...      ...   \n",
       "362801    8       1586   869  1244  144470          5              5   109991   \n",
       "362802    0       1183   869  1244  144470          2              3   154756   \n",
       "362803    4       1586   856  1244  144470          2              4    11806   \n",
       "362804    8       1586   856  1244  144470          5              5   174828   \n",
       "362805    7       1586   843  1244  144470          4              5   165197   \n",
       "\n",
       "        Satisfaction  Sex  Sides  UsefulCount  \n",
       "0                  5    2    413            0  \n",
       "1                  5    1    413            1  \n",
       "2                  3    1      0            0  \n",
       "3                  1    1      0            0  \n",
       "4                  1    2      0            1  \n",
       "...              ...  ...    ...          ...  \n",
       "362801             5    1    911            2  \n",
       "362802             1    0    911           16  \n",
       "362803             2    1    911            3  \n",
       "362804             5    2    911            1  \n",
       "362805             5    1    911            3  \n",
       "\n",
       "[362768 rows x 12 columns]>"
      ]
     },
     "execution_count": 40,
     "metadata": {},
     "output_type": "execute_result"
    }
   ],
   "source": [
    "data.describe"
   ]
  },
  {
   "cell_type": "markdown",
   "id": "1b20b7ff",
   "metadata": {},
   "source": [
    "### (ii) Decision Tree Classifier"
   ]
  },
  {
   "cell_type": "code",
   "execution_count": 41,
   "id": "a8b5f9b6",
   "metadata": {},
   "outputs": [],
   "source": [
    "from sklearn.tree import DecisionTreeClassifier"
   ]
  },
  {
   "cell_type": "code",
   "execution_count": 42,
   "id": "e454bf21",
   "metadata": {},
   "outputs": [],
   "source": [
    "dt_model=DecisionTreeClassifier()"
   ]
  },
  {
   "cell_type": "code",
   "execution_count": 43,
   "id": "7c7267f2",
   "metadata": {},
   "outputs": [
    {
     "data": {
      "text/plain": [
       "DecisionTreeClassifier()"
      ]
     },
     "execution_count": 43,
     "metadata": {},
     "output_type": "execute_result"
    }
   ],
   "source": [
    "dt_model.fit(X_train,y_train)"
   ]
  },
  {
   "cell_type": "code",
   "execution_count": 44,
   "id": "5bfe3174",
   "metadata": {},
   "outputs": [],
   "source": [
    "y_pred = dt_model.predict(X_test)"
   ]
  },
  {
   "cell_type": "code",
   "execution_count": 45,
   "id": "6ec143bb",
   "metadata": {},
   "outputs": [
    {
     "name": "stdout",
     "output_type": "stream",
     "text": [
      "accuracy on Decision tree model is : 0.9885740276208066\n"
     ]
    }
   ],
   "source": [
    "print(\"accuracy on Decision tree model is :\",accuracy_score(y_test,y_pred))"
   ]
  },
  {
   "cell_type": "code",
   "execution_count": 46,
   "id": "96d5ceae",
   "metadata": {},
   "outputs": [
    {
     "data": {
      "text/plain": [
       "0       3527\n",
       "965     3076\n",
       "1044    2494\n",
       "325     1827\n",
       "479     1511\n",
       "        ... \n",
       "467        1\n",
       "743        1\n",
       "186        1\n",
       "377        1\n",
       "1447       1\n",
       "Name: Sides, Length: 1393, dtype: int64"
      ]
     },
     "execution_count": 46,
     "metadata": {},
     "output_type": "execute_result"
    }
   ],
   "source": [
    "y_test.value_counts()"
   ]
  },
  {
   "cell_type": "code",
   "execution_count": 47,
   "id": "1bd50578",
   "metadata": {},
   "outputs": [
    {
     "data": {
      "text/plain": [
       "array([[3095,    0,    0, ...,    0,    0,    0],\n",
       "       [   0,    3,    0, ...,    0,    0,    0],\n",
       "       [   0,    0,    5, ...,    0,    0,    0],\n",
       "       ...,\n",
       "       [   0,    0,    0, ...,    0,    0,    0],\n",
       "       [   0,    0,    0, ...,    0,   15,    0],\n",
       "       [   0,    0,    0, ...,    0,    0,   14]], dtype=int64)"
      ]
     },
     "execution_count": 47,
     "metadata": {},
     "output_type": "execute_result"
    }
   ],
   "source": [
    "confusion_matrix(y_test,predictions)"
   ]
  },
  {
   "cell_type": "markdown",
   "id": "0ccec6f7",
   "metadata": {},
   "source": [
    "### (iii) Random Forest Classifier"
   ]
  },
  {
   "cell_type": "code",
   "execution_count": 48,
   "id": "c720887e",
   "metadata": {},
   "outputs": [],
   "source": [
    "from sklearn.ensemble import RandomForestClassifier"
   ]
  },
  {
   "cell_type": "code",
   "execution_count": 49,
   "id": "3eb15516",
   "metadata": {},
   "outputs": [],
   "source": [
    "rf_model=RandomForestClassifier(class_weight='balanced', random_state=1, max_depth=5, \\\n",
    "                               n_estimators=500, max_features=1)"
   ]
  },
  {
   "cell_type": "code",
   "execution_count": 50,
   "id": "8c54a724",
   "metadata": {},
   "outputs": [
    {
     "data": {
      "text/plain": [
       "RandomForestClassifier(class_weight='balanced', max_depth=5, max_features=1,\n",
       "                       n_estimators=500, random_state=1)"
      ]
     },
     "execution_count": 50,
     "metadata": {},
     "output_type": "execute_result"
    }
   ],
   "source": [
    "rf_model.fit(X_train,y_train)"
   ]
  },
  {
   "cell_type": "code",
   "execution_count": 51,
   "id": "4156e40b",
   "metadata": {},
   "outputs": [],
   "source": [
    "predictions = rf_model.predict(X_test)"
   ]
  },
  {
   "cell_type": "code",
   "execution_count": 52,
   "id": "1429c6f2",
   "metadata": {},
   "outputs": [
    {
     "name": "stdout",
     "output_type": "stream",
     "text": [
      "accuracy on Random Forest model is : 0.015078424346004355\n"
     ]
    }
   ],
   "source": [
    "print(\"accuracy on Random Forest model is :\",accuracy_score(y_test,predictions))"
   ]
  },
  {
   "cell_type": "markdown",
   "id": "ab45b605",
   "metadata": {},
   "source": [
    "### (iv) Logistic Regression"
   ]
  },
  {
   "cell_type": "code",
   "execution_count": 53,
   "id": "874a579c",
   "metadata": {},
   "outputs": [
    {
     "name": "stdout",
     "output_type": "stream",
     "text": [
      "Mean Accuracy:0.681(0.042)\n"
     ]
    }
   ],
   "source": [
    "from numpy import mean\n",
    "from numpy import std\n",
    "from sklearn.datasets import make_classification\n",
    "from sklearn.model_selection import cross_val_score\n",
    "from sklearn.model_selection import RepeatedStratifiedKFold\n",
    "from sklearn.linear_model import LogisticRegression\n",
    "X,y=make_classification(n_samples=1000,n_features=10,n_informative=5,n_redundant=5,n_classes=3,random_state=1)\n",
    "model=LogisticRegression(multi_class='multinomial',solver='lbfgs')\n",
    "cv=RepeatedStratifiedKFold(n_splits=10,n_repeats=3,random_state=1)\n",
    "n_scores=cross_val_score(model,X,y,scoring='accuracy',cv=cv,n_jobs=1)\n",
    "print('Mean Accuracy:%.3f(%.3f)'%(mean(n_scores),std(n_scores)))"
   ]
  },
  {
   "cell_type": "markdown",
   "id": "36b82603",
   "metadata": {},
   "source": [
    "**Among all the models, Decision Tree Classifier provides high accuracy.** "
   ]
  },
  {
   "cell_type": "markdown",
   "id": "d5d27809",
   "metadata": {},
   "source": [
    "## IV. TUNING - KNN"
   ]
  },
  {
   "cell_type": "code",
   "execution_count": 58,
   "id": "a390e6b6",
   "metadata": {},
   "outputs": [],
   "source": [
    "from sklearn.model_selection import GridSearchCV"
   ]
  },
  {
   "cell_type": "code",
   "execution_count": 59,
   "id": "a33db765",
   "metadata": {},
   "outputs": [],
   "source": [
    "#List Hyperparameters that we want to tune.\n",
    "leaf_size = list(range(1,5))\n",
    "n_neighbors = list(range(3,4))\n",
    "p=[1,2]\n",
    "#Convert to dictionary\n",
    "hyperparameters = dict(leaf_size=leaf_size, n_neighbors=n_neighbors, p=p)\n",
    "#Create new KNN object\n",
    "knn_2 = KNeighborsClassifier()"
   ]
  },
  {
   "cell_type": "code",
   "execution_count": 60,
   "id": "0c3e2b95",
   "metadata": {},
   "outputs": [
    {
     "name": "stderr",
     "output_type": "stream",
     "text": [
      "C:\\Users\\DELL\\anaconda3\\lib\\site-packages\\sklearn\\model_selection\\_split.py:666: UserWarning: The least populated class in y has only 1 members, which is less than n_splits=10.\n",
      "  warnings.warn((\"The least populated class in y has only %d\"\n"
     ]
    },
    {
     "name": "stdout",
     "output_type": "stream",
     "text": [
      "Best leaf_size: 4\n",
      "Best p: 1\n",
      "Best n_neighbors: 3\n"
     ]
    }
   ],
   "source": [
    "#Use GridSearch\n",
    "clf = GridSearchCV(knn_2, hyperparameters, cv=10)\n",
    "#Fit the model\n",
    "best_model = clf.fit(X_train, y_train)\n",
    "#Print The value of best Hyperparameters\n",
    "print(\"Best leaf_size:\", best_model.best_estimator_.get_params()['leaf_size'])\n",
    "print(\"Best p:\", best_model.best_estimator_.get_params()['p'])\n",
    "print(\"Best n_neighbors:\", best_model.best_estimator_.get_params()['n_neighbors'])"
   ]
  },
  {
   "cell_type": "code",
   "execution_count": 62,
   "id": "2a082113",
   "metadata": {},
   "outputs": [],
   "source": [
    "kncdf = KNeighborsClassifier(leaf_size=4, n_neighbors=3, metric=\"minkowski\", p=1)\n",
    "model = kncdf.fit(X_train, y_train)\n",
    "predictions = model.predict(X_test)"
   ]
  },
  {
   "cell_type": "code",
   "execution_count": 63,
   "id": "bc8e301f",
   "metadata": {},
   "outputs": [
    {
     "name": "stdout",
     "output_type": "stream",
     "text": [
      "Accuracy is: 0.964343799101359\n"
     ]
    }
   ],
   "source": [
    "print(\"Accuracy is:\", accuracy_score(y_test,predictions))"
   ]
  },
  {
   "cell_type": "markdown",
   "id": "f05ff778",
   "metadata": {},
   "source": [
    "**Hence, we can find the performance of KNN Algorithm is improved after Hyper parameter tuning (GridSearchCV).**"
   ]
  }
 ],
 "metadata": {
  "kernelspec": {
   "display_name": "Python 3 (ipykernel)",
   "language": "python",
   "name": "python3"
  },
  "language_info": {
   "codemirror_mode": {
    "name": "ipython",
    "version": 3
   },
   "file_extension": ".py",
   "mimetype": "text/x-python",
   "name": "python",
   "nbconvert_exporter": "python",
   "pygments_lexer": "ipython3",
   "version": "3.9.7"
  }
 },
 "nbformat": 4,
 "nbformat_minor": 5
}
